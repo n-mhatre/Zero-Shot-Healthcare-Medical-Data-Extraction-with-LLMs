{
 "cells": [
  {
   "cell_type": "code",
   "execution_count": 2,
   "metadata": {},
   "outputs": [
    {
     "data": {
      "text/plain": [
       "True"
      ]
     },
     "execution_count": 2,
     "metadata": {},
     "output_type": "execute_result"
    }
   ],
   "source": [
    "import pandas as pd\n",
    "import json\n",
    "import re\n",
    "\n",
    "from langchain_core.output_parsers import PydanticOutputParser\n",
    "from langchain_core.prompts import PromptTemplate\n",
    "from langchain_core.pydantic_v1 import BaseModel, Field, validator\n",
    "from langchain_openai import ChatOpenAI\n",
    "\n",
    "from dotenv import find_dotenv, load_dotenv, dotenv_values\n",
    "load_dotenv('../.env.secret')\n",
    "\n"
   ]
  },
  {
   "cell_type": "code",
   "execution_count": null,
   "metadata": {},
   "outputs": [],
   "source": []
  },
  {
   "cell_type": "markdown",
   "metadata": {},
   "source": [
    "## # Data"
   ]
  },
  {
   "cell_type": "code",
   "execution_count": 3,
   "metadata": {},
   "outputs": [],
   "source": [
    "\n",
    "# Load JSON data from a file\n",
    "with open('transcripts.json', 'r') as file:\n",
    "    data = json.load(file)"
   ]
  },
  {
   "cell_type": "code",
   "execution_count": 63,
   "metadata": {},
   "outputs": [
    {
     "name": "stdout",
     "output_type": "stream",
     "text": [
      "ID: 2055 \n",
      "data: During the visit, I examined Mr. Don Hicks, who is 81 years old and presented with a fungal infection. He had dischromic patches, nodal skin eruptions, and skin rash as symptoms. Upon examination, I confirmed the diagnosis of fungal infection. I advised Mr. Hicks to take precautions such as bathing twice a day, using detol or neem in the bathing water, keeping the infected area dry, and using clean cloths. I did not prescribe any medication for him.\n",
      "=========================================\n",
      "ID: 291 \n",
      "data: During the visit, I examined Tina Will, a 69-year-old patient who presented with symptoms of chest pain, vomiting, and breathlessness. After conducting a thorough examination, I determined that Tina was suffering from a heart attack. As a result, I advised her to seek immediate medical attention. Since there were no precautions that could be taken to prevent a heart attack, I did not prescribe any medication. Instead, I recommended that Tina follow up with her primary care physician for ongoing treatment and management of her condition.\n",
      "=========================================\n",
      "ID: 102 \n",
      "data: D: Good morning Tommie, how can I help you today?\n",
      "P: Good morning, Doctor. I've been experiencing some strange symptoms lately.\n",
      "D: Can you tell me what kind of symptoms you're experiencing?\n",
      "P: Sure, I've been feeling dizzy and unsteady on my feet, and I've also been having headaches.\n",
      "D: Interesting. Based on your age and the symptoms you're experiencing, it could be hypertension.\n",
      "P: Hypertension? What's that?\n",
      "D: Hypertension, also known as high blood pressure, is when the force of blood against your arteries is consistently too high.\n",
      "P: Oh, I see. And what can I do about it?\n",
      "D: To manage hypertension, I recommend that you practice meditation, take salt baths, reduce stress, and make sure you're getting proper sleep. In addition, it's important that you monitor your blood pressure regularly.\n",
      "P: Okay, I can do that. Do I need any medication?\n",
      "D: At this point, it doesn't seem like medication is necessary. But if your symptoms worsen or don't improve with the precautions I've suggested, we may need to reconsider.\n",
      "P: Alright, I'll give it a try and let you know how it goes. Thank you, Doctor.\n",
      "D: You're welcome, Tommie. Don't hesitate to contact me if you have any further questions or concerns.\n",
      "=========================================\n"
     ]
    }
   ],
   "source": [
    "# check data\n",
    "for i, (k,v) in enumerate(data.items()):\n",
    "    if i>2:\n",
    "        break\n",
    "    \n",
    "    print('ID:',k,'\\ndata:', v)\n",
    "    print(\"=========================================\")"
   ]
  },
  {
   "cell_type": "code",
   "execution_count": null,
   "metadata": {},
   "outputs": [],
   "source": []
  },
  {
   "cell_type": "markdown",
   "metadata": {},
   "source": [
    "## # Parser"
   ]
  },
  {
   "cell_type": "code",
   "execution_count": 5,
   "metadata": {},
   "outputs": [],
   "source": [
    "# Creating the structure data which need to scrap in specific format\n",
    "\n",
    "class Data(BaseModel):\n",
    "    is_conversation_format: bool = Field(description=\"is given context in conversation format: yes or no\", default='no')\n",
    "    name: str = Field(description=\"name of the patient\", default='Error')\n",
    "    age: int = Field(description=\"age of the patient between 0 to 100\", default=-1)\n",
    "    condition: str = Field(description=\"patient's condition\", default='None')\n",
    "    symptoms: str = Field(description=\"What symptoms is the patient experiencing?\", default='None')\n",
    "    precautions: str = Field(description=\"What precautions did the doctor advise?\", default='None')\n",
    "    medications: str = Field(description=\"What drugs or medications did the doctor prescribe?\", default='None')\n",
    "    summary: str = Field(description=\"create summary for doctor to help them understand patient for the next visit\", default='None')\n",
    "    \n",
    "    # # Custom validator for the 'age' field if needed\n",
    "    # @validator('age')\n",
    "    # def age_must_be_between_0_and_100(cls, value: int) -> int:\n",
    "    #     if not (0 <= value <= 100):\n",
    "    #         raise ValueError('Age must be between 0 and 100')\n",
    "    #     return value"
   ]
  },
  {
   "cell_type": "code",
   "execution_count": 6,
   "metadata": {},
   "outputs": [],
   "source": [
    "parser = PydanticOutputParser(pydantic_object=Data)"
   ]
  },
  {
   "cell_type": "code",
   "execution_count": 7,
   "metadata": {},
   "outputs": [
    {
     "name": "stdout",
     "output_type": "stream",
     "text": [
      "The output should be formatted as a JSON instance that conforms to the JSON schema below.\n",
      "\n",
      "As an example, for the schema {\"properties\": {\"foo\": {\"title\": \"Foo\", \"description\": \"a list of strings\", \"type\": \"array\", \"items\": {\"type\": \"string\"}}}, \"required\": [\"foo\"]}\n",
      "the object {\"foo\": [\"bar\", \"baz\"]} is a well-formatted instance of the schema. The object {\"properties\": {\"foo\": [\"bar\", \"baz\"]}} is not well-formatted.\n",
      "\n",
      "Here is the output schema:\n",
      "```\n",
      "{\"properties\": {\"is_conversation_format\": {\"title\": \"Is Conversation Format\", \"description\": \"is given context in conversation format: yes or no\", \"default\": \"no\", \"type\": \"boolean\"}, \"name\": {\"title\": \"Name\", \"description\": \"name of the patient\", \"default\": \"Error\", \"type\": \"string\"}, \"age\": {\"title\": \"Age\", \"description\": \"age of the patient between 0 to 100\", \"default\": -1, \"type\": \"integer\"}, \"condition\": {\"title\": \"Condition\", \"description\": \"patient's condition\", \"default\": \"None\", \"type\": \"string\"}, \"symptoms\": {\"title\": \"Symptoms\", \"description\": \"What symptoms is the patient experiencing?\", \"default\": \"None\", \"type\": \"string\"}, \"precautions\": {\"title\": \"Precautions\", \"description\": \"What precautions did the doctor advise?\", \"default\": \"None\", \"type\": \"string\"}, \"medications\": {\"title\": \"Medications\", \"description\": \"What drugs or medications did the doctor prescribe?\", \"default\": \"None\", \"type\": \"string\"}, \"summary\": {\"title\": \"Summary\", \"description\": \"create summary for doctor to help them understand patient for the next visit\", \"default\": \"None\", \"type\": \"string\"}}}\n",
      "```\n"
     ]
    }
   ],
   "source": [
    "# internal pydantic stucture representation\n",
    "print(parser.get_format_instructions())"
   ]
  },
  {
   "cell_type": "code",
   "execution_count": null,
   "metadata": {},
   "outputs": [],
   "source": []
  },
  {
   "cell_type": "markdown",
   "metadata": {},
   "source": [
    "## # Prompt"
   ]
  },
  {
   "cell_type": "code",
   "execution_count": 8,
   "metadata": {},
   "outputs": [],
   "source": [
    "# prompt template\n",
    "template = \"\"\"\n",
    "yor are expert in understading the context of given data to answer the question.\n",
    "\n",
    "context may be in 2 different format such that you will get summary from doctor or in conversation format between patient and doctor. for the conversation format, for doctor start with \"D:\" and for patienti \"P:\". So understand the context best as you can and if you don't know the anwer then say None but don't generate hulistic answer.\n",
    "\n",
    "\n",
    "<context>\n",
    "{context}\n",
    "</context>\n",
    "\n",
    "\n",
    "answer the question best as you can, it must be from the context provided so don't give hallusunated answers:\n",
    "is given context conversation format: yes or no\n",
    "What is the patient's name?:\n",
    "What is the patient's age?:\n",
    "What is the patient's condition?:\n",
    "What symptoms is the patient experiencing?:\n",
    "What precautions did the doctor advise?:\n",
    "What drugs or medications did the doctor prescribe?:\n",
    "create summary for doctor to help them understand patient for the next visit:\n",
    "\n",
    "give me output in the following format json format:\n",
    "{format_instructions}\n",
    "\"\"\""
   ]
  },
  {
   "cell_type": "code",
   "execution_count": 9,
   "metadata": {},
   "outputs": [],
   "source": [
    "prompt = PromptTemplate(\n",
    "    template=template,\n",
    "    input_variables=[\"context\"],\n",
    "    partial_variables={\"format_instructions\": parser.get_format_instructions()},\n",
    ")"
   ]
  },
  {
   "cell_type": "code",
   "execution_count": 11,
   "metadata": {},
   "outputs": [
    {
     "name": "stdout",
     "output_type": "stream",
     "text": [
      "\n",
      "yor are expert in understading the context of given data to answer the question.\n",
      "\n",
      "context may be in 2 different format such that you will get summary from doctor or in conversation format between patient and doctor. for the conversation format, for doctor start with \"D:\" and for patienti \"P:\". So understand the context best as you can and if you don't know the anwer then say None but don't generate hulistic answer.\n",
      "\n",
      "\n",
      "<context>\n",
      "Past Your context/query here\n",
      "</context>\n",
      "\n",
      "\n",
      "answer the question best as you can, it must be from the context provided so don't give hallusunated answers:\n",
      "is given context conversation format: yes or no\n",
      "What is the patient's name?:\n",
      "What is the patient's age?:\n",
      "What is the patient's condition?:\n",
      "What symptoms is the patient experiencing?:\n",
      "What precautions did the doctor advise?:\n",
      "What drugs or medications did the doctor prescribe?:\n",
      "create summary for doctor to help them understand patient for the next visit:\n",
      "\n",
      "give me output in the following format json format:\n",
      "The output should be formatted as a JSON instance that conforms to the JSON schema below.\n",
      "\n",
      "As an example, for the schema {\"properties\": {\"foo\": {\"title\": \"Foo\", \"description\": \"a list of strings\", \"type\": \"array\", \"items\": {\"type\": \"string\"}}}, \"required\": [\"foo\"]}\n",
      "the object {\"foo\": [\"bar\", \"baz\"]} is a well-formatted instance of the schema. The object {\"properties\": {\"foo\": [\"bar\", \"baz\"]}} is not well-formatted.\n",
      "\n",
      "Here is the output schema:\n",
      "```\n",
      "{\"properties\": {\"is_conversation_format\": {\"title\": \"Is Conversation Format\", \"description\": \"is given context in conversation format: yes or no\", \"default\": \"no\", \"type\": \"boolean\"}, \"name\": {\"title\": \"Name\", \"description\": \"name of the patient\", \"default\": \"Error\", \"type\": \"string\"}, \"age\": {\"title\": \"Age\", \"description\": \"age of the patient between 0 to 100\", \"default\": -1, \"type\": \"integer\"}, \"condition\": {\"title\": \"Condition\", \"description\": \"patient's condition\", \"default\": \"None\", \"type\": \"string\"}, \"symptoms\": {\"title\": \"Symptoms\", \"description\": \"What symptoms is the patient experiencing?\", \"default\": \"None\", \"type\": \"string\"}, \"precautions\": {\"title\": \"Precautions\", \"description\": \"What precautions did the doctor advise?\", \"default\": \"None\", \"type\": \"string\"}, \"medications\": {\"title\": \"Medications\", \"description\": \"What drugs or medications did the doctor prescribe?\", \"default\": \"None\", \"type\": \"string\"}, \"summary\": {\"title\": \"Summary\", \"description\": \"create summary for doctor to help them understand patient for the next visit\", \"default\": \"None\", \"type\": \"string\"}}}\n",
      "```\n",
      "\n"
     ]
    }
   ],
   "source": [
    "# final prompt for the llm\n",
    "print(prompt.invoke({'context': 'Past Your context/query here'}).text)\n"
   ]
  },
  {
   "cell_type": "code",
   "execution_count": 12,
   "metadata": {},
   "outputs": [
    {
     "name": "stdout",
     "output_type": "stream",
     "text": [
      "During the visit, I examined Mr. Don Hicks, who is 81 years old and presented with a fungal infection. He had dischromic patches, nodal skin eruptions, and skin rash as symptoms. Upon examination, I confirmed the diagnosis of fungal infection. I advised Mr. Hicks to take precautions such as bathing twice a day, using detol or neem in the bathing water, keeping the infected area dry, and using clean cloths. I did not prescribe any medication for him.\n"
     ]
    }
   ],
   "source": [
    "# sample testing query/context\n",
    "sample_query = data['2055']\n",
    "print(sample_query)"
   ]
  },
  {
   "cell_type": "code",
   "execution_count": 16,
   "metadata": {},
   "outputs": [
    {
     "name": "stdout",
     "output_type": "stream",
     "text": [
      "{\n",
      "  \"is_conversation_format\": \"no\",\n",
      "  \"name\": \"Don Hicks\",\n",
      "  \"age\": 81,\n",
      "  \"condition\": \"Fungal infection\",\n",
      "  \"symptoms\": \"Dischromic patches, nodal skin eruptions, skin rash\",\n",
      "  \"precautions\": \"Bathing twice a day, using detol or neem in the bathing water, keeping the infected area dry, using clean cloths\",\n",
      "  \"medications\": \"None\",\n",
      "  \"summary\": \"Mr. Don Hicks, 81 years old, presented with a fungal infection showing symptoms of dischromic patches, nodal skin eruptions, and skin rash. Advised precautions for bathing and keeping the infected area dry. No medication prescribed.\"\n",
      "}\n"
     ]
    }
   ],
   "source": [
    "llm = ChatOpenAI(model_name=\"gpt-3.5-turbo\", temperature=0)\n",
    "chain = prompt | llm\n",
    "result = chain.invoke(input={\"context\": sample_query})\n",
    "print(result.content)"
   ]
  },
  {
   "cell_type": "code",
   "execution_count": 18,
   "metadata": {},
   "outputs": [
    {
     "data": {
      "text/plain": [
       "{'input_tokens': 718, 'output_tokens': 154, 'total_tokens': 872}"
      ]
     },
     "execution_count": 18,
     "metadata": {},
     "output_type": "execute_result"
    }
   ],
   "source": [
    "result.usage_metadata"
   ]
  },
  {
   "cell_type": "code",
   "execution_count": 21,
   "metadata": {},
   "outputs": [
    {
     "data": {
      "text/plain": [
       "{'is_conversation_format': False,\n",
       " 'name': 'Don Hicks',\n",
       " 'age': 81,\n",
       " 'condition': 'Fungal infection',\n",
       " 'symptoms': 'Dischromic patches, nodal skin eruptions, skin rash',\n",
       " 'precautions': 'Bathing twice a day, using detol or neem in the bathing water, keeping the infected area dry, using clean cloths',\n",
       " 'medications': 'None',\n",
       " 'summary': 'Mr. Don Hicks, 81 years old, presented with a fungal infection showing symptoms of dischromic patches, nodal skin eruptions, and skin rash. Advised precautions for bathing and keeping the infected area dry. No medication prescribed.'}"
      ]
     },
     "execution_count": 21,
     "metadata": {},
     "output_type": "execute_result"
    }
   ],
   "source": [
    "# invoking parser for testing purpose\n",
    "r = parser.invoke(result)\n",
    "dict(r)"
   ]
  },
  {
   "cell_type": "code",
   "execution_count": null,
   "metadata": {},
   "outputs": [],
   "source": []
  },
  {
   "cell_type": "markdown",
   "metadata": {},
   "source": [
    "## # Data Extraction:"
   ]
  },
  {
   "cell_type": "code",
   "execution_count": 22,
   "metadata": {},
   "outputs": [],
   "source": [
    "llm = ChatOpenAI(model_name=\"gpt-3.5-turbo\", temperature=0)\n",
    "chain = prompt | llm | parser"
   ]
  },
  {
   "cell_type": "code",
   "execution_count": 34,
   "metadata": {},
   "outputs": [
    {
     "name": "stdout",
     "output_type": "stream",
     "text": [
      "2055 During the visit, I examined Mr. Don Hicks, who is 81 years old and presented with a fungal infection. He had dischromic patches, nodal skin eruptions, and skin rash as symptoms. Upon examination, I confirmed the diagnosis of fungal infection. I advised Mr. Hicks to take precautions such as bathing twice a day, using detol or neem in the bathing water, keeping the infected area dry, and using clean cloths. I did not prescribe any medication for him.\n",
      "\n",
      "Result:\n",
      " {'is_conversation_format': False, 'name': 'Don Hicks', 'age': 81, 'condition': 'Fungal infection', 'symptoms': 'Dischromic patches, nodal skin eruptions, skin rash', 'precautions': 'Bathing twice a day, using detol or neem in the bathing water, keeping the infected area dry, using clean cloths', 'medications': 'None', 'summary': 'Mr. Don Hicks, 81 years old, presented with a fungal infection showing symptoms of dischromic patches, nodal skin eruptions, and skin rash. Advised precautions for bathing and keeping the infected area dry. No medication prescribed.', 'id': '2055'}\n",
      "=========================================\n",
      "\n",
      "\n",
      "2966 D: Good morning, Chris. I understand you've been experiencing some health issues lately. Can you tell me about your symptoms?\n",
      "\n",
      "P: Yes, Doctor. I've been losing weight, have a lot of abdominal pain, and my skin has turned yellow.\n",
      "\n",
      "D: I see. Based on your symptoms, I believe you have jaundice. \n",
      "\n",
      "P: What causes jaundice, Doctor?\n",
      "\n",
      "D: Jaundice can be caused by various reasons such as liver problems, bile duct issues, or blood disorders. In your case, I think it's due to liver problems.\n",
      "\n",
      "P: How can I treat jaundice, Doctor?\n",
      "\n",
      "D: To treat jaundice, you should drink plenty of water, consume milk thistle, eat fruits and high fiberous food, and take medication if prescribed. In your case, I don't think medication is necessary, and these lifestyle changes should help.\n",
      "\n",
      "P: Can you explain what milk thistle is, Doctor?\n",
      "\n",
      "D: Sure, milk thistle is a herb that helps improve liver function. It contains a compound called silymarin, which has been shown to support liver health.\n",
      "\n",
      "P: Thank you, Doctor. I'll try to follow these precautions and see if my symptoms improve.\n",
      "\n",
      "D: That's great, Chris. Remember to come back for a follow-up appointment if your symptoms don't improve or worsen. Have a great day!\n",
      "\n",
      "Result:\n",
      " {'is_conversation_format': True, 'name': 'Chris', 'age': -1, 'condition': 'Jaundice', 'symptoms': 'Losing weight, abdominal pain, yellow skin', 'precautions': 'Drink plenty of water, consume milk thistle, eat fruits and high fiberous food', 'medications': 'None', 'summary': 'The patient, Chris, is experiencing symptoms of jaundice including weight loss, abdominal pain, and yellow skin. The doctor advised him to follow precautions such as drinking water, consuming milk thistle, and eating fruits and high fiberous food. No medications were prescribed at this time.', 'id': '2966'}\n",
      "=========================================\n",
      "\n",
      "\n",
      "2441 During the visit, I, the doctor, examined Bernita Smith, a 35-year-old patient who presented with symptoms of psoriasis, including a silver-like dusting on her skin, joint pain, and small dents in her nails. After conducting a thorough examination, I determined that the patient's condition was indeed psoriasis. To manage her symptoms, I advised her to wash her hands with warm, soapy water, stop any bleeding using pressure, and take salt baths. Additionally, I prescribed the medication LoKara to help alleviate her symptoms. Overall, I instructed the patient to continue with these precautions and to schedule a follow-up appointment in two weeks for further evaluation.\n",
      "\n",
      "Result:\n",
      " {'is_conversation_format': False, 'name': 'Bernita Smith', 'age': 35, 'condition': 'psoriasis', 'symptoms': 'silver-like dusting on skin, joint pain, small dents in nails', 'precautions': 'wash hands with warm, soapy water, stop bleeding using pressure, take salt baths', 'medications': 'LoKara', 'summary': 'Patient Bernita Smith, 35 years old, diagnosed with psoriasis. Experiencing symptoms of silver-like dusting on skin, joint pain, and small dents in nails. Advised to take precautions such as washing hands with warm, soapy water, stopping bleeding using pressure, and taking salt baths. Prescribed medication LoKara. Follow-up appointment scheduled in two weeks.', 'id': '2441'}\n",
      "=========================================\n",
      "\n",
      "\n",
      "742 D: Good morning, Jose. How are you feeling today?\n",
      "P: I'm feeling really tired and irritable. I've been sweating a lot recently too.\n",
      "D: Jose, based on your symptoms, I believe you may have hypoglycemia. Your blood sugar levels are low, which is causing you to feel this way.\n",
      "P: What can I do to feel better?\n",
      "D: I would suggest that you lie down on your side to help you feel more comfortable. You should also check your pulse regularly to make sure it's stable. Additionally, it would be best to drink some sugary drinks or snacks to help raise your blood sugar levels.\n",
      "P: What about medication?\n",
      "D: At this point, I don't believe medication is necessary. However, if your symptoms persist or worsen, we may need to consider other options. In the meantime, follow the precautions I've recommended, and make sure to monitor your blood sugar levels regularly. Is there anything else you'd like to ask or discuss?\n",
      "\n",
      "Result:\n",
      " {'is_conversation_format': True, 'name': 'Jose', 'age': -1, 'condition': 'Hypoglycemia', 'symptoms': 'Feeling tired, irritable, sweating a lot', 'precautions': 'Lie down on side, check pulse regularly, drink sugary drinks or snacks, monitor blood sugar levels', 'medications': 'None', 'summary': 'Jose is experiencing symptoms of hypoglycemia such as tiredness, irritability, and excessive sweating. The doctor advised him to take precautions like lying down, checking pulse, consuming sugary snacks, and monitoring blood sugar levels. No medications were prescribed at this time.', 'id': '742'}\n",
      "=========================================\n",
      "\n",
      "\n"
     ]
    }
   ],
   "source": [
    "output = []\n",
    "# check data\n",
    "for i, (k,v) in enumerate(data.items()):\n",
    "    # if i>11:\n",
    "    #     break\n",
    "    \n",
    "    result = chain.invoke(input={\"context\": v})\n",
    "    result = dict(result)\n",
    "    output.append(result)\n",
    "    result['id'] = k\n",
    "    result['original_msg'] = v\n",
    "    \n",
    "    # sample printing during data extraction. # you can comment it or and set i%x, where x is higher\n",
    "    if i%3==0:\n",
    "        print(k, v)\n",
    "        print('\\nResult:\\n',result)\n",
    "        print(\"=========================================\\n\\n\")"
   ]
  },
  {
   "cell_type": "code",
   "execution_count": 56,
   "metadata": {},
   "outputs": [
    {
     "data": {
      "text/html": [
       "<div>\n",
       "<style scoped>\n",
       "    .dataframe tbody tr th:only-of-type {\n",
       "        vertical-align: middle;\n",
       "    }\n",
       "\n",
       "    .dataframe tbody tr th {\n",
       "        vertical-align: top;\n",
       "    }\n",
       "\n",
       "    .dataframe thead th {\n",
       "        text-align: right;\n",
       "    }\n",
       "</style>\n",
       "<table border=\"1\" class=\"dataframe\">\n",
       "  <thead>\n",
       "    <tr style=\"text-align: right;\">\n",
       "      <th></th>\n",
       "      <th>is_conversation_format</th>\n",
       "      <th>name</th>\n",
       "      <th>age</th>\n",
       "      <th>condition</th>\n",
       "      <th>symptoms</th>\n",
       "      <th>precautions</th>\n",
       "      <th>medications</th>\n",
       "      <th>summary</th>\n",
       "      <th>id</th>\n",
       "      <th>original_msg</th>\n",
       "    </tr>\n",
       "  </thead>\n",
       "  <tbody>\n",
       "    <tr>\n",
       "      <th>0</th>\n",
       "      <td>False</td>\n",
       "      <td>Don Hicks</td>\n",
       "      <td>81</td>\n",
       "      <td>Fungal infection</td>\n",
       "      <td>Dischromic patches, nodal skin eruptions, skin...</td>\n",
       "      <td>Bathing twice a day, using detol or neem in th...</td>\n",
       "      <td>None</td>\n",
       "      <td>Mr. Don Hicks, 81 years old, presented with a ...</td>\n",
       "      <td>2055</td>\n",
       "      <td>During the visit, I examined Mr. Don Hicks, wh...</td>\n",
       "    </tr>\n",
       "    <tr>\n",
       "      <th>1</th>\n",
       "      <td>False</td>\n",
       "      <td>Tina Will</td>\n",
       "      <td>69</td>\n",
       "      <td>heart attack</td>\n",
       "      <td>chest pain, vomiting, breathlessness</td>\n",
       "      <td>advised to seek immediate medical attention</td>\n",
       "      <td>None</td>\n",
       "      <td>Tina Will, a 69-year-old patient, presented wi...</td>\n",
       "      <td>291</td>\n",
       "      <td>During the visit, I examined Tina Will, a 69-y...</td>\n",
       "    </tr>\n",
       "    <tr>\n",
       "      <th>2</th>\n",
       "      <td>True</td>\n",
       "      <td>Tommie</td>\n",
       "      <td>45</td>\n",
       "      <td>Hypertension</td>\n",
       "      <td>Dizziness, unsteadiness on feet, headaches</td>\n",
       "      <td>Practice meditation, take salt baths, reduce s...</td>\n",
       "      <td>None</td>\n",
       "      <td>Patient Tommie, 45 years old, presenting with ...</td>\n",
       "      <td>102</td>\n",
       "      <td>D: Good morning Tommie, how can I help you tod...</td>\n",
       "    </tr>\n",
       "    <tr>\n",
       "      <th>3</th>\n",
       "      <td>True</td>\n",
       "      <td>Chris</td>\n",
       "      <td>-1</td>\n",
       "      <td>Jaundice</td>\n",
       "      <td>Losing weight, abdominal pain, yellow skin</td>\n",
       "      <td>Drink plenty of water, consume milk thistle, e...</td>\n",
       "      <td>None</td>\n",
       "      <td>The patient, Chris, is experiencing symptoms o...</td>\n",
       "      <td>2966</td>\n",
       "      <td>D: Good morning, Chris. I understand you've be...</td>\n",
       "    </tr>\n",
       "    <tr>\n",
       "      <th>4</th>\n",
       "      <td>True</td>\n",
       "      <td>Ernest</td>\n",
       "      <td>-1</td>\n",
       "      <td>Urinary tract infection (UTI)</td>\n",
       "      <td>Bladder discomfort, continuous feel of urine, ...</td>\n",
       "      <td>Drink plenty of water, increase vitamin C inta...</td>\n",
       "      <td>None</td>\n",
       "      <td>Ernest presented with symptoms of UTI includin...</td>\n",
       "      <td>2438</td>\n",
       "      <td>D: Hi Ernest, I understand you're here for a c...</td>\n",
       "    </tr>\n",
       "    <tr>\n",
       "      <th>5</th>\n",
       "      <td>False</td>\n",
       "      <td>Carlos Murrieta</td>\n",
       "      <td>75</td>\n",
       "      <td>diabetes</td>\n",
       "      <td>obesity, restlessness, lethargy</td>\n",
       "      <td>following a balanced diet, exercising regularl...</td>\n",
       "      <td>None</td>\n",
       "      <td>Carlos Murrieta, a 75-year-old patient, presen...</td>\n",
       "      <td>4271</td>\n",
       "      <td>During the visit, I assessed Carlos Murrieta, ...</td>\n",
       "    </tr>\n",
       "    <tr>\n",
       "      <th>6</th>\n",
       "      <td>False</td>\n",
       "      <td>Bernita Smith</td>\n",
       "      <td>35</td>\n",
       "      <td>psoriasis</td>\n",
       "      <td>silver-like dusting on skin, joint pain, small...</td>\n",
       "      <td>wash hands with warm, soapy water, stop bleedi...</td>\n",
       "      <td>LoKara</td>\n",
       "      <td>Patient Bernita Smith, 35 years old, diagnosed...</td>\n",
       "      <td>2441</td>\n",
       "      <td>During the visit, I, the doctor, examined Bern...</td>\n",
       "    </tr>\n",
       "    <tr>\n",
       "      <th>7</th>\n",
       "      <td>False</td>\n",
       "      <td>Garrett Brown</td>\n",
       "      <td>64</td>\n",
       "      <td>Diabetes</td>\n",
       "      <td>Weight loss, excessive hunger, lethargy</td>\n",
       "      <td>Maintain a balanced diet, exercise regularly, ...</td>\n",
       "      <td>None</td>\n",
       "      <td>Patient Garrett Brown, 64 years old, diagnosed...</td>\n",
       "      <td>1717</td>\n",
       "      <td>During the visit, I, the doctor, determined th...</td>\n",
       "    </tr>\n",
       "    <tr>\n",
       "      <th>8</th>\n",
       "      <td>True</td>\n",
       "      <td>Nathaniel</td>\n",
       "      <td>-1</td>\n",
       "      <td>gastroenteritis</td>\n",
       "      <td>diarrhea, vomiting, sunken eyes</td>\n",
       "      <td>stop eating solid food, take small sips of wat...</td>\n",
       "      <td>None</td>\n",
       "      <td>Patient Nathaniel is experiencing symptoms of ...</td>\n",
       "      <td>3206</td>\n",
       "      <td>D: Nathaniel, I understand you've been feeling...</td>\n",
       "    </tr>\n",
       "    <tr>\n",
       "      <th>9</th>\n",
       "      <td>True</td>\n",
       "      <td>Jose</td>\n",
       "      <td>-1</td>\n",
       "      <td>Hypoglycemia</td>\n",
       "      <td>Feeling tired, irritable, sweating a lot</td>\n",
       "      <td>Lie down on side, check pulse regularly, drink...</td>\n",
       "      <td>None</td>\n",
       "      <td>Jose is experiencing symptoms of hypoglycemia ...</td>\n",
       "      <td>742</td>\n",
       "      <td>D: Good morning, Jose. How are you feeling tod...</td>\n",
       "    </tr>\n",
       "    <tr>\n",
       "      <th>10</th>\n",
       "      <td>True</td>\n",
       "      <td>Amanda</td>\n",
       "      <td>-1</td>\n",
       "      <td>Urinary tract infection</td>\n",
       "      <td>Frequent urination, painful urination, discomf...</td>\n",
       "      <td>Drink plenty of water, increase vitamin C inta...</td>\n",
       "      <td>None</td>\n",
       "      <td>Patient Amanda is experiencing symptoms of a u...</td>\n",
       "      <td>3728</td>\n",
       "      <td>D: Good morning, Amanda. How can I help you to...</td>\n",
       "    </tr>\n",
       "    <tr>\n",
       "      <th>11</th>\n",
       "      <td>True</td>\n",
       "      <td>Lucy</td>\n",
       "      <td>-1</td>\n",
       "      <td>Migraines</td>\n",
       "      <td>Headaches, blurry and distorted vision, increa...</td>\n",
       "      <td>Practicing meditation, reducing stress levels,...</td>\n",
       "      <td>Fiorinal</td>\n",
       "      <td>Lucy is experiencing symptoms of migraines inc...</td>\n",
       "      <td>3414</td>\n",
       "      <td>D: Good morning, Lucy. How can I help you toda...</td>\n",
       "    </tr>\n",
       "  </tbody>\n",
       "</table>\n",
       "</div>"
      ],
      "text/plain": [
       "    is_conversation_format             name  age  \\\n",
       "0                    False        Don Hicks   81   \n",
       "1                    False        Tina Will   69   \n",
       "2                     True           Tommie   45   \n",
       "3                     True            Chris   -1   \n",
       "4                     True           Ernest   -1   \n",
       "5                    False  Carlos Murrieta   75   \n",
       "6                    False    Bernita Smith   35   \n",
       "7                    False    Garrett Brown   64   \n",
       "8                     True        Nathaniel   -1   \n",
       "9                     True             Jose   -1   \n",
       "10                    True           Amanda   -1   \n",
       "11                    True             Lucy   -1   \n",
       "\n",
       "                        condition  \\\n",
       "0                Fungal infection   \n",
       "1                    heart attack   \n",
       "2                    Hypertension   \n",
       "3                        Jaundice   \n",
       "4   Urinary tract infection (UTI)   \n",
       "5                        diabetes   \n",
       "6                       psoriasis   \n",
       "7                        Diabetes   \n",
       "8                 gastroenteritis   \n",
       "9                    Hypoglycemia   \n",
       "10        Urinary tract infection   \n",
       "11                      Migraines   \n",
       "\n",
       "                                             symptoms  \\\n",
       "0   Dischromic patches, nodal skin eruptions, skin...   \n",
       "1                chest pain, vomiting, breathlessness   \n",
       "2          Dizziness, unsteadiness on feet, headaches   \n",
       "3          Losing weight, abdominal pain, yellow skin   \n",
       "4   Bladder discomfort, continuous feel of urine, ...   \n",
       "5                     obesity, restlessness, lethargy   \n",
       "6   silver-like dusting on skin, joint pain, small...   \n",
       "7             Weight loss, excessive hunger, lethargy   \n",
       "8                     diarrhea, vomiting, sunken eyes   \n",
       "9            Feeling tired, irritable, sweating a lot   \n",
       "10  Frequent urination, painful urination, discomf...   \n",
       "11  Headaches, blurry and distorted vision, increa...   \n",
       "\n",
       "                                          precautions medications  \\\n",
       "0   Bathing twice a day, using detol or neem in th...        None   \n",
       "1         advised to seek immediate medical attention        None   \n",
       "2   Practice meditation, take salt baths, reduce s...        None   \n",
       "3   Drink plenty of water, consume milk thistle, e...        None   \n",
       "4   Drink plenty of water, increase vitamin C inta...        None   \n",
       "5   following a balanced diet, exercising regularl...        None   \n",
       "6   wash hands with warm, soapy water, stop bleedi...      LoKara   \n",
       "7   Maintain a balanced diet, exercise regularly, ...        None   \n",
       "8   stop eating solid food, take small sips of wat...        None   \n",
       "9   Lie down on side, check pulse regularly, drink...        None   \n",
       "10  Drink plenty of water, increase vitamin C inta...        None   \n",
       "11  Practicing meditation, reducing stress levels,...    Fiorinal   \n",
       "\n",
       "                                              summary    id  \\\n",
       "0   Mr. Don Hicks, 81 years old, presented with a ...  2055   \n",
       "1   Tina Will, a 69-year-old patient, presented wi...   291   \n",
       "2   Patient Tommie, 45 years old, presenting with ...   102   \n",
       "3   The patient, Chris, is experiencing symptoms o...  2966   \n",
       "4   Ernest presented with symptoms of UTI includin...  2438   \n",
       "5   Carlos Murrieta, a 75-year-old patient, presen...  4271   \n",
       "6   Patient Bernita Smith, 35 years old, diagnosed...  2441   \n",
       "7   Patient Garrett Brown, 64 years old, diagnosed...  1717   \n",
       "8   Patient Nathaniel is experiencing symptoms of ...  3206   \n",
       "9   Jose is experiencing symptoms of hypoglycemia ...   742   \n",
       "10  Patient Amanda is experiencing symptoms of a u...  3728   \n",
       "11  Lucy is experiencing symptoms of migraines inc...  3414   \n",
       "\n",
       "                                         original_msg  \n",
       "0   During the visit, I examined Mr. Don Hicks, wh...  \n",
       "1   During the visit, I examined Tina Will, a 69-y...  \n",
       "2   D: Good morning Tommie, how can I help you tod...  \n",
       "3   D: Good morning, Chris. I understand you've be...  \n",
       "4   D: Hi Ernest, I understand you're here for a c...  \n",
       "5   During the visit, I assessed Carlos Murrieta, ...  \n",
       "6   During the visit, I, the doctor, examined Bern...  \n",
       "7   During the visit, I, the doctor, determined th...  \n",
       "8   D: Nathaniel, I understand you've been feeling...  \n",
       "9   D: Good morning, Jose. How are you feeling tod...  \n",
       "10  D: Good morning, Amanda. How can I help you to...  \n",
       "11  D: Good morning, Lucy. How can I help you toda...  "
      ]
     },
     "execution_count": 56,
     "metadata": {},
     "output_type": "execute_result"
    }
   ],
   "source": [
    "output_result = pd.DataFrame(output)\n",
    "output_result.head(12)"
   ]
  },
  {
   "cell_type": "code",
   "execution_count": 57,
   "metadata": {},
   "outputs": [],
   "source": [
    "output_result.to_csv('Sample_output.csv', index=False)"
   ]
  },
  {
   "cell_type": "code",
   "execution_count": null,
   "metadata": {},
   "outputs": [],
   "source": []
  },
  {
   "cell_type": "code",
   "execution_count": null,
   "metadata": {},
   "outputs": [],
   "source": []
  },
  {
   "cell_type": "code",
   "execution_count": null,
   "metadata": {},
   "outputs": [],
   "source": []
  },
  {
   "cell_type": "code",
   "execution_count": null,
   "metadata": {},
   "outputs": [],
   "source": []
  },
  {
   "cell_type": "code",
   "execution_count": null,
   "metadata": {},
   "outputs": [],
   "source": []
  }
 ],
 "metadata": {
  "kernelspec": {
   "display_name": "udemy",
   "language": "python",
   "name": "python3"
  },
  "language_info": {
   "codemirror_mode": {
    "name": "ipython",
    "version": 3
   },
   "file_extension": ".py",
   "mimetype": "text/x-python",
   "name": "python",
   "nbconvert_exporter": "python",
   "pygments_lexer": "ipython3",
   "version": "3.10.14"
  }
 },
 "nbformat": 4,
 "nbformat_minor": 2
}
